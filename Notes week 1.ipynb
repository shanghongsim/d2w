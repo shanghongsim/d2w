{
 "cells": [
  {
   "cell_type": "markdown",
   "metadata": {},
   "source": [
    "Problem statement: sort the list in descending order\n",
    "\n",
    "How will I solve it as a human?\n",
    "1. Find 1argest number\n",
    "2. Place largest number in new list\n",
    "3. Remove largest number from old list\n",
    "4. Repeat steps 1-3 for all the other numbers in the old list\n",
    "\n",
    "Above will throw an error: the iterable size keeps changing\n",
    "Solution: change in place\n",
    "How will I solve it as a human?\n",
    "1. Find 1argest number\n",
    "2. Place largest number at start of list\n",
    "3. Remove original larget number\n",
    "4. Repeat steps 1-3 for all the other numbers in the old list\n"
   ]
  },
  {
   "cell_type": "code",
   "execution_count": null,
   "metadata": {},
   "outputs": [],
   "source": [
    "array=[5,6,9,8,1]\n",
    "\n",
    "def sort_arr(array):\n",
    "    min_num=0\n",
    "    for i in range(len(array)-1):\n",
    "        print(i)\n",
    "        for ind in range(len(array)-(i+1)):\n",
    "            print(ind)\n",
    "            num1=array[ind]\n",
    "            num2=array[ind+1]\n",
    "            if num2>num1:\n",
    "                min_num=num1\n",
    "                min_ind=ind+1\n",
    "        array.pop(max_ind)\n",
    "        array.append(max_num)\n",
    "    return array\n",
    "sort_arr(array)\n",
    "                         \n",
    "            \n",
    "            "
   ]
  },
  {
   "cell_type": "code",
   "execution_count": null,
   "metadata": {},
   "outputs": [],
   "source": [
    "# iteration\n",
    "def factorial_iteration(n):\n",
    "    result = 1\n",
    "    total=[]\n",
    "    if n==0:\n",
    "        return result\n",
    "    else:\n",
    "        total=list(range(1,n+1))\n",
    "        for i in total:\n",
    "            result=result*i\n",
    "#         print(result)\n",
    "        return result\n",
    "\n",
    "factorial_iteration(0) \n"
   ]
  }
 ],
 "metadata": {
  "kernelspec": {
   "display_name": "Python 3",
   "language": "python",
   "name": "python3"
  },
  "language_info": {
   "codemirror_mode": {
    "name": "ipython",
    "version": 3
   },
   "file_extension": ".py",
   "mimetype": "text/x-python",
   "name": "python",
   "nbconvert_exporter": "python",
   "pygments_lexer": "ipython3",
   "version": "3.8.5"
  }
 },
 "nbformat": 4,
 "nbformat_minor": 4
}
